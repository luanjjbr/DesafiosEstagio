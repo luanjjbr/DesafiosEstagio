{
  "nbformat": 4,
  "nbformat_minor": 0,
  "metadata": {
    "colab": {
      "provenance": []
    },
    "kernelspec": {
      "name": "python3",
      "display_name": "Python 3"
    },
    "language_info": {
      "name": "python"
    }
  },
  "cells": [
    {
      "cell_type": "markdown",
      "source": [
        "1) Observe o trecho de código abaixo:\n",
        "\n",
        "int INDICE = 13, SOMA = 0, K = 0;\n",
        "\n",
        "enquanto K < INDICE faça\n",
        "\n",
        "{\n",
        "\n",
        "K = K + 1;\n",
        "\n",
        "SOMA = SOMA + K;\n",
        "\n",
        "}\n",
        "\n",
        "imprimir(SOMA);\n",
        "\n",
        "\n",
        "\n",
        "Ao final do processamento, qual será o valor da variável SOMA?"
      ],
      "metadata": {
        "id": "onBQBI0YzWHX"
      }
    },
    {
      "cell_type": "code",
      "execution_count": null,
      "metadata": {
        "colab": {
          "base_uri": "https://localhost:8080/"
        },
        "id": "Z8TsKdB7y-iQ",
        "outputId": "2f837439-0a64-43bd-a708-b9320adbb94e"
      },
      "outputs": [
        {
          "output_type": "stream",
          "name": "stdout",
          "text": [
            "91\n"
          ]
        }
      ],
      "source": [
        "INDICE = 13\n",
        "SOMA = 0\n",
        "K = 0\n",
        "\n",
        "while K < INDICE:\n",
        "  K = K + 1\n",
        "  SOMA = SOMA + K\n",
        "\n",
        "print(SOMA)"
      ]
    },
    {
      "cell_type": "markdown",
      "source": [
        "\n",
        "\n",
        "---\n",
        "\n",
        "\n",
        "2) Dado a sequência de Fibonacci, onde se inicia por 0 e 1 e o próximo valor sempre será a soma dos 2 valores anteriores (exemplo: 0, 1, 1, 2, 3, 5, 8, 13, 21, 34...), escreva um programa na linguagem que desejar onde, informado um número, ele calcule a sequência de Fibonacci e retorne uma mensagem avisando se o número informado pertence ou não a sequência.\n",
        "\n",
        "\n",
        "\n",
        "IMPORTANTE:\n",
        "\n",
        "Esse número pode ser informado através de qualquer entrada de sua preferência ou pode ser previamente definido no código;"
      ],
      "metadata": {
        "id": "thZl-y9Kz-Kk"
      }
    },
    {
      "cell_type": "code",
      "source": [
        "def pertence_fibonacci(numero):\n",
        "  a = 0;\n",
        "  b = 1;\n",
        "  while a <= numero:\n",
        "    if a == numero:\n",
        "      return True\n",
        "    temp = a\n",
        "    a = b\n",
        "    b = temp + b\n",
        "  return False\n",
        "\n",
        "numero = int(input(\"Informe um número: \"))\n",
        "\n",
        "if pertence_fibonacci(numero):\n",
        "    print(f\"{numero} pertence à sequência de Fibonacci.\")\n",
        "else:\n",
        "    print(f\"{numero} não pertence à sequência de Fibonacci.\")\n"
      ],
      "metadata": {
        "colab": {
          "base_uri": "https://localhost:8080/"
        },
        "id": "uyaoBX5tzVRE",
        "outputId": "f85ace3e-49b5-4a82-855e-2f5ee0631171"
      },
      "execution_count": null,
      "outputs": [
        {
          "output_type": "stream",
          "name": "stdout",
          "text": [
            "Informe um número: 4\n",
            "4 não pertence à sequência de Fibonacci.\n"
          ]
        }
      ]
    },
    {
      "cell_type": "markdown",
      "source": [
        "\n",
        "\n",
        "---\n",
        "\n",
        "\n",
        "\n",
        "3)Descubra a lógica e complete o próximo elemento:\n",
        "\n",
        "\n",
        "a) 1, 3, 5, 7, ___9\n",
        "\n",
        "n=1;\n",
        "\n",
        "n+=2;\n",
        "\n",
        "Número anterior mais dois.\n",
        "\n",
        "b) 2, 4, 8, 16, 32, 64, ____128\n",
        "\n",
        "n=2;\n",
        "\n",
        "n*=2\n",
        "\n",
        "Número anterior multiplicado por dois.\n",
        "\n",
        "c) 0, 1, 4, 9, 16, 25, 36, ____49\n",
        "\n",
        "n=0;\n",
        "\n",
        "m=n**2;\n",
        "\n",
        "n++;\n",
        "\n",
        "\n",
        "Número de ordem crescente ao quadrado.\n",
        "\n",
        "d) 4, 16, 36, 64, ____\n",
        "\n",
        "\n",
        "n=0;\n",
        "\n",
        "m=n**2;\n",
        "\n",
        "n+=2;\n",
        "\n",
        "Números pares ao quadrado.\n",
        "\n",
        "e) 1, 1, 2, 3, 5, 8, ____13\n",
        "\n",
        "sequencia de Fibonacci\n",
        "\n",
        "f) 2,10, 12, 16, 17, 18, 19, ____200\n",
        "\n",
        "Número que começa com D.\n"
      ],
      "metadata": {
        "id": "wsOyb3YH1YiD"
      }
    },
    {
      "cell_type": "markdown",
      "source": [
        "\n",
        "\n",
        "---\n",
        "\n"
      ],
      "metadata": {
        "id": "cfq-Du8K6ZkM"
      }
    },
    {
      "cell_type": "markdown",
      "source": [
        "4) Você está em uma sala com três interruptores, cada um conectado a uma lâmpada em uma sala diferente. Você não pode ver as lâmpadas da sala em que está, mas pode ligar e desligar os interruptores quantas vezes quiser. Seu objetivo é descobrir qual interruptor controla qual lâmpada.\n",
        "\n",
        "Como você faria para descobrir, usando apenas duas idas até uma das salas das lâmpadas, qual interruptor controla cada lâmpada?"
      ],
      "metadata": {
        "id": "TweV3g1z6TvY"
      }
    },
    {
      "cell_type": "markdown",
      "source": [
        "Vou dividir o interruptor por letra 'A', 'B', 'C'. Ligo o interruptor A por um intervalo de 20 minutos para dar tempo dela esquentar. Depois eu desligo e ligo o B. Vou olhar as salas: se a lâmpada da sala 1 estiver acesa, é do interruptor B; se estiver apagada e fria, é do interruptor C; se estiver apagada, porém quente, é do A. Vou para a sala 2 e faço a mesma análise. Não será necessário ir na última, pois pode ser definida por eliminação.\n"
      ],
      "metadata": {
        "id": "rL0Wlo5K97tA"
      }
    },
    {
      "cell_type": "markdown",
      "source": [
        "\n",
        "\n",
        "---\n",
        "\n",
        "5) Escreva um programa que inverta os caracteres de um string.\n",
        "\n",
        "\n",
        "IMPORTANTE:\n",
        "\n",
        "a) Essa string pode ser informada através de qualquer entrada de sua preferência ou pode ser previamente definida no código;\n",
        "\n",
        "b) Evite usar funções prontas, como, por exemplo, reverse;"
      ],
      "metadata": {
        "id": "vG0EVZCN-FVn"
      }
    },
    {
      "cell_type": "code",
      "source": [
        "def inverter_string(s):\n",
        "  inverted_string = \"\"\n",
        "  for char in s:\n",
        "    inverted_string = char + inverted_string\n",
        "  return inverted_string\n",
        "\n",
        "# Exemplo de uso\n",
        "entrada = input(\"Digite uma string: \")\n",
        "resultado = inverter_string(entrada)\n",
        "print(\"String invertida:\", resultado)\n"
      ],
      "metadata": {
        "colab": {
          "base_uri": "https://localhost:8080/"
        },
        "id": "q3WmgkIq-NFl",
        "outputId": "46d844ba-fba6-440a-dcda-f4403f5b9afe"
      },
      "execution_count": null,
      "outputs": [
        {
          "output_type": "stream",
          "name": "stdout",
          "text": [
            "Digite uma string: Luan\n",
            "String invertida: nauL\n"
          ]
        }
      ]
    }
  ]
}